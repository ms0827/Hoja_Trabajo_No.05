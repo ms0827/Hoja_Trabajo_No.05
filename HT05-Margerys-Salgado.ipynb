{
 "cells": [
  {
   "cell_type": "markdown",
   "metadata": {},
   "source": [
    "# Hoja de Trabajo No.5\n",
    "## Numpy, Pandas, Vectorización"
   ]
  },
  {
   "cell_type": "markdown",
   "metadata": {},
   "source": [
    "### Presentado por: Margerys Salgado"
   ]
  },
  {
   "cell_type": "markdown",
   "metadata": {},
   "source": [
    "#### Librerias"
   ]
  },
  {
   "cell_type": "code",
   "execution_count": 1,
   "metadata": {},
   "outputs": [],
   "source": [
    "import pandas as pd\n",
    "import numpy as np"
   ]
  },
  {
   "cell_type": "markdown",
   "metadata": {},
   "source": [
    "-- Desarrollar los siguientes ejercicios y subir el Notebook actualizado a su repositorio de GitHub. \n",
    "-- El entregable debe ser el link del archivo en su repositorio, cualquier otra forma de entregable no sera aceptada."
   ]
  },
  {
   "cell_type": "markdown",
   "metadata": {},
   "source": [
    "### Numpy"
   ]
  },
  {
   "cell_type": "markdown",
   "metadata": {},
   "source": [
    "Ejercicio 1: Crear un conjunto de datos lineal\n",
    "Crear un conjunto de datos simple que consta de una sola característica y una etiqueta de la siguiente manera:\n",
    "\n",
    "Asigne una secuencia de números enteros del 6 al 20 (incluyendo 20) a un arreglo de NumPy llamado caracteristica.\n",
    "Asigne 15 valores a un arreglo de NumPy llamado etiqueta de manera que:\n",
    "\n",
    "    etiqueta = (3) (caracteristica) + 4\n",
    "\n",
    "Por ejemplo, el primer valor de etiqueta debería ser:\n",
    "\n",
    "    etiqueta = (3) (6) + 4 = 22"
   ]
  },
  {
   "cell_type": "code",
   "execution_count": 2,
   "metadata": {},
   "outputs": [
    {
     "name": "stdout",
     "output_type": "stream",
     "text": [
      "[22 25 28 31 34 37 40 43 46 49 52 55 58 61 64]\n"
     ]
    }
   ],
   "source": [
    "caracteristica = np.array([6, 7, 8, 9, 10, 11, 12, 13, 14, 15, 16, 17, 18, 19, 20])\n",
    "etiqueta = 3 * caracteristica + 4\n",
    "print(etiqueta)"
   ]
  },
  {
   "cell_type": "code",
   "execution_count": 3,
   "metadata": {},
   "outputs": [
    {
     "data": {
      "text/plain": [
       "(15,)"
      ]
     },
     "execution_count": 3,
     "metadata": {},
     "output_type": "execute_result"
    }
   ],
   "source": [
    "type(etiqueta)\n",
    "etiqueta.shape"
   ]
  },
  {
   "cell_type": "markdown",
   "metadata": {},
   "source": [
    "Ejercicio 2: agregar ruido al conjunto de datos\n",
    "Inserte un ruido aleatorio en cada elemento de la matriz etiqueta que ya creó.\n",
    "\n",
    "Para ser más precisos, modifique cada valor asignado a etiqueta agregando un valor \"floating-point\" aleatorio diferente entre -2 y +2.\n",
    "No utilice broadcasting. En su lugar, cree un arreglo de ruido que tenga la misma dimensión que etiqueta."
   ]
  },
  {
   "cell_type": "code",
   "execution_count": 4,
   "metadata": {},
   "outputs": [
    {
     "name": "stdout",
     "output_type": "stream",
     "text": [
      "[[ 0.59067408  0.80585824 -0.61482003 -0.05338296  0.2612489   0.79936347\n",
      "  -0.71948135  0.42787815 -1.83638514 -0.51235789  1.5928928   1.50929113\n",
      "   1.16201054 -0.61704829  0.58254781]]\n"
     ]
    }
   ],
   "source": [
    "import numpy as np\n",
    "RA = np.random.uniform(-2, 2, size=(1, 15))\n",
    "\n",
    "print(RA)"
   ]
  },
  {
   "cell_type": "code",
   "execution_count": 5,
   "metadata": {},
   "outputs": [
    {
     "name": "stdout",
     "output_type": "stream",
     "text": [
      "[[22.59067408 25.80585824 27.38517997 30.94661704 34.2612489  37.79936347\n",
      "  39.28051865 43.42787815 44.16361486 48.48764211 53.5928928  56.50929113\n",
      "  59.16201054 60.38295171 64.58254781]]\n"
     ]
    }
   ],
   "source": [
    "etiqueta2 = etiqueta + RA\n",
    "print(etiqueta2)"
   ]
  },
  {
   "cell_type": "markdown",
   "metadata": {},
   "source": [
    "### Pandas"
   ]
  },
  {
   "cell_type": "markdown",
   "metadata": {},
   "source": [
    "Ejericio 3: Crear un DataFrame\n",
    "Hacer lo siguiente:\n",
    "\n",
    "Cree un pandas DataFrame de 10x3 (10 filas x 3 columnas) en el que las columnas se denominen \"Data Warehouse\", \"Python in Data Science\", y \"Estadistica Aplicada\". Llene cada una de las 30 celdas del DataFrame con un número entero aleatorio entre 0 y 100, incluyendo 100.\n",
    "\n",
    "Despliege lo siguiente:\n",
    "\n",
    "Todo el DataFrame\n",
    "Las primeras 5 filas del DataFrame\n",
    "Las ultimas 5 filas del DataFrame\n",
    "El valor en la celda de la fila # 1 de la columna \"Data Warehouse\"\n",
    "El valor en la celda de la fila # 3 de la columna \"Estadistica Aplicada\"\n",
    "Cree una cuarta columna llamada \"Promedio\", que se rellena con el promedio fila por fila de las otras 3 columnas (\"Data Warehouse\", \"Python in Data Science\", y \"Estadistica Aplicada\"). Debe de usar la funcion de Numpy para calcular el promedio.\n",
    "\n",
    "Para completar esta parte, es útil entender los conceptos básicos de NumPy cubiertos en clase y en la seccion anterior."
   ]
  },
  {
   "cell_type": "code",
   "execution_count": 6,
   "metadata": {},
   "outputs": [],
   "source": [
    "import pandas as pd"
   ]
  },
  {
   "cell_type": "code",
   "execution_count": 7,
   "metadata": {},
   "outputs": [
    {
     "data": {
      "text/plain": [
       "array([[60, 64, 64],\n",
       "       [15,  2, 21],\n",
       "       [97, 31, 30],\n",
       "       [89, 26, 84],\n",
       "       [88, 93, 50],\n",
       "       [13, 10,  0],\n",
       "       [87, 26, 98],\n",
       "       [68, 84, 53],\n",
       "       [32, 29, 75],\n",
       "       [ 6, 91, 84]])"
      ]
     },
     "execution_count": 7,
     "metadata": {},
     "output_type": "execute_result"
    }
   ],
   "source": [
    "np.random.randint(100, size=(10, 3))"
   ]
  },
  {
   "cell_type": "code",
   "execution_count": 8,
   "metadata": {},
   "outputs": [
    {
     "name": "stdout",
     "output_type": "stream",
     "text": [
      "   Data Warehouse  Python in Data Science  Estadistica Aplicada\n",
      "0              68                      91                    18\n",
      "1              76                      55                    30\n",
      "2              75                       6                    69\n",
      "3              16                      55                     1\n",
      "4              62                      36                     6\n",
      "5              63                      63                    95\n",
      "6              72                      57                    74\n",
      "7              24                      52                    60\n",
      "8              35                      64                    36\n",
      "9               3                      82                    85\n"
     ]
    }
   ],
   "source": [
    "a = np.random.randint(100, size=(10, 3))\n",
    "df = pd.DataFrame(data=a, columns=['Data Warehouse', 'Python in Data Science', 'Estadistica Aplicada'])\n",
    "print(df)"
   ]
  },
  {
   "cell_type": "code",
   "execution_count": 9,
   "metadata": {},
   "outputs": [],
   "source": [
    "#Las primeras 5 filas del DataFrame"
   ]
  },
  {
   "cell_type": "code",
   "execution_count": 10,
   "metadata": {},
   "outputs": [
    {
     "data": {
      "text/html": [
       "<div>\n",
       "<style scoped>\n",
       "    .dataframe tbody tr th:only-of-type {\n",
       "        vertical-align: middle;\n",
       "    }\n",
       "\n",
       "    .dataframe tbody tr th {\n",
       "        vertical-align: top;\n",
       "    }\n",
       "\n",
       "    .dataframe thead th {\n",
       "        text-align: right;\n",
       "    }\n",
       "</style>\n",
       "<table border=\"1\" class=\"dataframe\">\n",
       "  <thead>\n",
       "    <tr style=\"text-align: right;\">\n",
       "      <th></th>\n",
       "      <th>Data Warehouse</th>\n",
       "      <th>Python in Data Science</th>\n",
       "      <th>Estadistica Aplicada</th>\n",
       "    </tr>\n",
       "  </thead>\n",
       "  <tbody>\n",
       "    <tr>\n",
       "      <th>0</th>\n",
       "      <td>68</td>\n",
       "      <td>91</td>\n",
       "      <td>18</td>\n",
       "    </tr>\n",
       "    <tr>\n",
       "      <th>1</th>\n",
       "      <td>76</td>\n",
       "      <td>55</td>\n",
       "      <td>30</td>\n",
       "    </tr>\n",
       "    <tr>\n",
       "      <th>2</th>\n",
       "      <td>75</td>\n",
       "      <td>6</td>\n",
       "      <td>69</td>\n",
       "    </tr>\n",
       "    <tr>\n",
       "      <th>3</th>\n",
       "      <td>16</td>\n",
       "      <td>55</td>\n",
       "      <td>1</td>\n",
       "    </tr>\n",
       "    <tr>\n",
       "      <th>4</th>\n",
       "      <td>62</td>\n",
       "      <td>36</td>\n",
       "      <td>6</td>\n",
       "    </tr>\n",
       "  </tbody>\n",
       "</table>\n",
       "</div>"
      ],
      "text/plain": [
       "   Data Warehouse  Python in Data Science  Estadistica Aplicada\n",
       "0              68                      91                    18\n",
       "1              76                      55                    30\n",
       "2              75                       6                    69\n",
       "3              16                      55                     1\n",
       "4              62                      36                     6"
      ]
     },
     "execution_count": 10,
     "metadata": {},
     "output_type": "execute_result"
    }
   ],
   "source": [
    "df.head()"
   ]
  },
  {
   "cell_type": "code",
   "execution_count": 11,
   "metadata": {},
   "outputs": [],
   "source": [
    "#Las ultimas 5 filas del DataFrame"
   ]
  },
  {
   "cell_type": "code",
   "execution_count": 12,
   "metadata": {},
   "outputs": [
    {
     "data": {
      "text/html": [
       "<div>\n",
       "<style scoped>\n",
       "    .dataframe tbody tr th:only-of-type {\n",
       "        vertical-align: middle;\n",
       "    }\n",
       "\n",
       "    .dataframe tbody tr th {\n",
       "        vertical-align: top;\n",
       "    }\n",
       "\n",
       "    .dataframe thead th {\n",
       "        text-align: right;\n",
       "    }\n",
       "</style>\n",
       "<table border=\"1\" class=\"dataframe\">\n",
       "  <thead>\n",
       "    <tr style=\"text-align: right;\">\n",
       "      <th></th>\n",
       "      <th>Data Warehouse</th>\n",
       "      <th>Python in Data Science</th>\n",
       "      <th>Estadistica Aplicada</th>\n",
       "    </tr>\n",
       "  </thead>\n",
       "  <tbody>\n",
       "    <tr>\n",
       "      <th>5</th>\n",
       "      <td>63</td>\n",
       "      <td>63</td>\n",
       "      <td>95</td>\n",
       "    </tr>\n",
       "    <tr>\n",
       "      <th>6</th>\n",
       "      <td>72</td>\n",
       "      <td>57</td>\n",
       "      <td>74</td>\n",
       "    </tr>\n",
       "    <tr>\n",
       "      <th>7</th>\n",
       "      <td>24</td>\n",
       "      <td>52</td>\n",
       "      <td>60</td>\n",
       "    </tr>\n",
       "    <tr>\n",
       "      <th>8</th>\n",
       "      <td>35</td>\n",
       "      <td>64</td>\n",
       "      <td>36</td>\n",
       "    </tr>\n",
       "    <tr>\n",
       "      <th>9</th>\n",
       "      <td>3</td>\n",
       "      <td>82</td>\n",
       "      <td>85</td>\n",
       "    </tr>\n",
       "  </tbody>\n",
       "</table>\n",
       "</div>"
      ],
      "text/plain": [
       "   Data Warehouse  Python in Data Science  Estadistica Aplicada\n",
       "5              63                      63                    95\n",
       "6              72                      57                    74\n",
       "7              24                      52                    60\n",
       "8              35                      64                    36\n",
       "9               3                      82                    85"
      ]
     },
     "execution_count": 12,
     "metadata": {},
     "output_type": "execute_result"
    }
   ],
   "source": [
    "df.tail(5)"
   ]
  },
  {
   "cell_type": "code",
   "execution_count": 13,
   "metadata": {},
   "outputs": [],
   "source": [
    "#El valor en la celda de la fila # 1 de la columna \"Data Warehouse\""
   ]
  },
  {
   "cell_type": "code",
   "execution_count": 14,
   "metadata": {},
   "outputs": [
    {
     "data": {
      "text/plain": [
       "0    68\n",
       "1    76\n",
       "2    75\n",
       "3    16\n",
       "4    62\n",
       "5    63\n",
       "6    72\n",
       "7    24\n",
       "8    35\n",
       "9     3\n",
       "Name: Data Warehouse, dtype: int32"
      ]
     },
     "execution_count": 14,
     "metadata": {},
     "output_type": "execute_result"
    }
   ],
   "source": [
    "df[\"Data Warehouse\"]"
   ]
  },
  {
   "cell_type": "code",
   "execution_count": 15,
   "metadata": {},
   "outputs": [],
   "source": [
    "#El valor en la celda de la fila # 3 de la columna \"Estadistica Aplicada\""
   ]
  },
  {
   "cell_type": "code",
   "execution_count": 16,
   "metadata": {},
   "outputs": [
    {
     "data": {
      "text/plain": [
       "69"
      ]
     },
     "execution_count": 16,
     "metadata": {},
     "output_type": "execute_result"
    }
   ],
   "source": [
    "df.loc[2, 'Estadistica Aplicada']"
   ]
  },
  {
   "cell_type": "code",
   "execution_count": 17,
   "metadata": {},
   "outputs": [],
   "source": [
    "#Cree una cuarta columna llamada \"Promedio\", que se rellena con el promedio fila por fila de las otras 3 columnas.\n",
    "#Debe de usar la funcion de Numpy para calcular el promedio."
   ]
  },
  {
   "cell_type": "code",
   "execution_count": 18,
   "metadata": {},
   "outputs": [
    {
     "data": {
      "text/html": [
       "<div>\n",
       "<style scoped>\n",
       "    .dataframe tbody tr th:only-of-type {\n",
       "        vertical-align: middle;\n",
       "    }\n",
       "\n",
       "    .dataframe tbody tr th {\n",
       "        vertical-align: top;\n",
       "    }\n",
       "\n",
       "    .dataframe thead th {\n",
       "        text-align: right;\n",
       "    }\n",
       "</style>\n",
       "<table border=\"1\" class=\"dataframe\">\n",
       "  <thead>\n",
       "    <tr style=\"text-align: right;\">\n",
       "      <th></th>\n",
       "      <th>Data Warehouse</th>\n",
       "      <th>Python in Data Science</th>\n",
       "      <th>Estadistica Aplicada</th>\n",
       "      <th>Prom</th>\n",
       "    </tr>\n",
       "  </thead>\n",
       "  <tbody>\n",
       "    <tr>\n",
       "      <th>0</th>\n",
       "      <td>68</td>\n",
       "      <td>91</td>\n",
       "      <td>18</td>\n",
       "      <td>59.000000</td>\n",
       "    </tr>\n",
       "    <tr>\n",
       "      <th>1</th>\n",
       "      <td>76</td>\n",
       "      <td>55</td>\n",
       "      <td>30</td>\n",
       "      <td>53.666667</td>\n",
       "    </tr>\n",
       "    <tr>\n",
       "      <th>2</th>\n",
       "      <td>75</td>\n",
       "      <td>6</td>\n",
       "      <td>69</td>\n",
       "      <td>50.000000</td>\n",
       "    </tr>\n",
       "    <tr>\n",
       "      <th>3</th>\n",
       "      <td>16</td>\n",
       "      <td>55</td>\n",
       "      <td>1</td>\n",
       "      <td>24.000000</td>\n",
       "    </tr>\n",
       "    <tr>\n",
       "      <th>4</th>\n",
       "      <td>62</td>\n",
       "      <td>36</td>\n",
       "      <td>6</td>\n",
       "      <td>34.666667</td>\n",
       "    </tr>\n",
       "    <tr>\n",
       "      <th>5</th>\n",
       "      <td>63</td>\n",
       "      <td>63</td>\n",
       "      <td>95</td>\n",
       "      <td>73.666667</td>\n",
       "    </tr>\n",
       "    <tr>\n",
       "      <th>6</th>\n",
       "      <td>72</td>\n",
       "      <td>57</td>\n",
       "      <td>74</td>\n",
       "      <td>67.666667</td>\n",
       "    </tr>\n",
       "    <tr>\n",
       "      <th>7</th>\n",
       "      <td>24</td>\n",
       "      <td>52</td>\n",
       "      <td>60</td>\n",
       "      <td>45.333333</td>\n",
       "    </tr>\n",
       "    <tr>\n",
       "      <th>8</th>\n",
       "      <td>35</td>\n",
       "      <td>64</td>\n",
       "      <td>36</td>\n",
       "      <td>45.000000</td>\n",
       "    </tr>\n",
       "    <tr>\n",
       "      <th>9</th>\n",
       "      <td>3</td>\n",
       "      <td>82</td>\n",
       "      <td>85</td>\n",
       "      <td>56.666667</td>\n",
       "    </tr>\n",
       "  </tbody>\n",
       "</table>\n",
       "</div>"
      ],
      "text/plain": [
       "   Data Warehouse  Python in Data Science  Estadistica Aplicada       Prom\n",
       "0              68                      91                    18  59.000000\n",
       "1              76                      55                    30  53.666667\n",
       "2              75                       6                    69  50.000000\n",
       "3              16                      55                     1  24.000000\n",
       "4              62                      36                     6  34.666667\n",
       "5              63                      63                    95  73.666667\n",
       "6              72                      57                    74  67.666667\n",
       "7              24                      52                    60  45.333333\n",
       "8              35                      64                    36  45.000000\n",
       "9               3                      82                    85  56.666667"
      ]
     },
     "execution_count": 18,
     "metadata": {},
     "output_type": "execute_result"
    }
   ],
   "source": [
    "df.insert(3, 'Prom', df.mean(axis=1))\n",
    "df"
   ]
  },
  {
   "cell_type": "markdown",
   "metadata": {},
   "source": [
    "### Vectorización"
   ]
  },
  {
   "cell_type": "markdown",
   "metadata": {},
   "source": [
    "A continuacion, se le presenta un problema el cual debera resolver de dos formas distintas.\n",
    "\n",
    "La primera es utilizando un for loop, \n",
    "la segunda usando vectorización.\n",
    "\n",
    "Luego debe de comparar el resultado de ambas implementaciones, tanto el valor resultante de la operacion, como el tiempo que toma la ejecucion de cada una.\n",
    "\n",
    "Problema:\n",
    "Dada una secuencia de precios historicos para una acción, y suponiendo que solo se le permite realizar una compra y una venta,\n",
    "¿cuál es la ganancia máxima que se puede obtener?\n",
    "\n",
    "Por ejemplo, dados los precios = (20, 18, 14, 17, 20, 21, 13), el beneficio máximo sería 7, de comprar a 14 y vender a 21. \n",
    "\n",
    "Notar que el arreglo es una secuencia, por lo tanto no es factible solo utilizar los valores menores y mayores,\n",
    "ya que el valor mayor debe de estar obligatoriamente en una posicion futura al menor, por eso el mejor precio de compra es 14 y no 13.\n",
    "\n",
    "Para este ejemplo utilice el siguiente codigo para generar el dataset (secuencia de precios historicos), asegurese de tambien incluir el \"random seed\" para obtener reproducibilidad."
   ]
  },
  {
   "cell_type": "markdown",
   "metadata": {},
   "source": [
    "#### Data"
   ]
  },
  {
   "cell_type": "code",
   "execution_count": 19,
   "metadata": {},
   "outputs": [
    {
     "data": {
      "text/plain": [
       "array([80.99342831, 77.7234714 , 77.29537708, 77.04605971, 71.53169325,\n",
       "       69.53172609, 71.15842563, 67.53486946, 63.06105123, 63.08512009,\n",
       "       59.07316461, 57.06854049, 56.48392454, 50.17343951, 48.55016433,\n",
       "       48.87542494, 45.97433776, 46.62849467, 42.18395185, 39.1753926 ,\n",
       "       42.93129754, 37.5484474 , 36.13505641, 31.15050363, 30.91123455,\n",
       "       30.22184518, 28.98372713, 33.32282461, 32.65586548, 34.55946964,\n",
       "       35.2251582 , 41.41884208, 38.97300555, 38.17029243, 43.2165184 ,\n",
       "       40.41545556, 44.56058433, 41.50923118, 44.05791362, 48.39372247,\n",
       "       50.76264745, 50.91416513, 51.62584629, 52.54064975, 51.47152745,\n",
       "       54.2745973 , 56.07872246, 60.39995874, 60.25866515, 57.33106255,\n",
       "       62.79102508, 62.65840687, 63.36044171, 67.22335258, 69.34771333,\n",
       "       70.43398881, 68.17870781, 70.52443239, 73.09109829, 75.66537597,\n",
       "       74.04165152, 73.98765641, 71.50527877, 70.68450983, 74.06094908,\n",
       "       74.50735185, 71.00982591, 72.51988631, 70.59506692, 67.94052972,\n",
       "       69.3125348 , 71.02479108, 67.23604023, 69.79595398, 60.78615082,\n",
       "       67.02842039, 64.91768388, 63.5045494 , 63.64506001, 58.84537499,\n",
       "       61.7401434 , 62.25268668, 63.85322399, 59.21986982, 57.99839741,\n",
       "       57.97084489, 60.16413757, 58.34980991, 55.99176164, 57.43679128,\n",
       "       55.96338587, 57.06549511, 53.0830733 , 53.19082955, 52.4209119 ,\n",
       "       49.63707267, 52.51531748, 51.80416183, 50.65125255, 49.53082573])"
      ]
     },
     "execution_count": 19,
     "metadata": {},
     "output_type": "execute_result"
    }
   ],
   "source": [
    "# Seed para reproducibilidad\n",
    "np.random.seed(42)\n",
    "# Creamos un arreglo que en su mayoria contiene Nans con algunos \"puntos de inflexion\" (local min/max).\n",
    "precios = np.full(100, fill_value=np.nan)\n",
    "precios[[0, 25, 60, -1]] = [80., 30., 75., 50.]\n",
    "\n",
    "# De manera lineal interpolamos los valores faltantes y agregamos ruido.\n",
    "x = np.arange(len(precios))\n",
    "es_valido = ~np.isnan(precios)\n",
    "precios = np.interp(x=x, xp=x[es_valido], fp=precios[es_valido])\n",
    "precios += np.random.randn(len(precios)) * 2\n",
    "precios"
   ]
  },
  {
   "cell_type": "code",
   "execution_count": 20,
   "metadata": {},
   "outputs": [
    {
     "data": {
      "image/png": "[encoded data removed]",
      "text/plain": [
       "<Figure size 432x288 with 1 Axes>"
      ]
     },
     "metadata": {
      "needs_background": "light"
     },
     "output_type": "display_data"
    }
   ],
   "source": [
    "import matplotlib.pyplot as plt\n",
    "import numpy as np\n",
    "\n",
    "plt.plot(precios)\n",
    "plt.show()"
   ]
  },
  {
   "cell_type": "code",
   "execution_count": 21,
   "metadata": {},
   "outputs": [
    {
     "data": {
      "text/plain": [
       "28.983727130869678"
      ]
     },
     "execution_count": 21,
     "metadata": {},
     "output_type": "execute_result"
    }
   ],
   "source": [
    "# Valor Minimo\n",
    "np.amin(precios)"
   ]
  },
  {
   "cell_type": "code",
   "execution_count": 22,
   "metadata": {},
   "outputs": [
    {
     "data": {
      "text/plain": [
       "80.99342830602247"
      ]
     },
     "execution_count": 22,
     "metadata": {},
     "output_type": "execute_result"
    }
   ],
   "source": [
    "#Valor Maximo\n",
    "np.amax(precios)"
   ]
  },
  {
   "cell_type": "markdown",
   "metadata": {},
   "source": [
    "#### La primera es utilizando un for loop,"
   ]
  },
  {
   "cell_type": "code",
   "execution_count": 23,
   "metadata": {},
   "outputs": [
    {
     "name": "stdout",
     "output_type": "stream",
     "text": [
      "Ganancia Máxima: 46.68164883766076\n",
      "El tiempo de ejecución en segundos es de: 0.0009996891021728516\n"
     ]
    }
   ],
   "source": [
    "from time import time\n",
    "inicio = time()\n",
    "\n",
    "def maxProfit(prices):\n",
    " \n",
    "    n = len(prices)\n",
    "    cost = 0\n",
    "    maxcost = 0\n",
    "    \n",
    "    if (n == 0):\n",
    "        return 0\n",
    " \n",
    "    min_price = prices[0] \n",
    "\n",
    "    for i in range(n):\n",
    "        \n",
    "        min_price = min(min_price, prices[i])\n",
    "        cost = prices[i] - min_price\n",
    "        maxcost = max(maxcost, cost)\n",
    " \n",
    "    return maxcost\n",
    " \n",
    "# Driver Code\n",
    "prices = precios\n",
    " \n",
    "# Stock prices on consecutive days\n",
    "print(\"Ganancia Máxima:\", maxProfit(prices))\n",
    "\n",
    "fin = time()\n",
    "\n",
    "print(\"El tiempo de ejecución en segundos es de: {}\".format(fin-inicio))"
   ]
  },
  {
   "cell_type": "markdown",
   "metadata": {},
   "source": [
    "#### la segunda usando vectorización"
   ]
  },
  {
   "cell_type": "code",
   "execution_count": 24,
   "metadata": {},
   "outputs": [
    {
     "data": {
      "text/plain": [
       "(100, 1)"
      ]
     },
     "execution_count": 24,
     "metadata": {},
     "output_type": "execute_result"
    }
   ],
   "source": [
    "data = precios \n",
    "A = np.array(data).reshape(100,1)\n",
    "A.shape"
   ]
  },
  {
   "cell_type": "code",
   "execution_count": 25,
   "metadata": {},
   "outputs": [
    {
     "data": {
      "text/plain": [
       "(1, 100)"
      ]
     },
     "execution_count": 25,
     "metadata": {},
     "output_type": "execute_result"
    }
   ],
   "source": [
    "B = np.ones((1, 100))\n",
    "B.shape"
   ]
  },
  {
   "cell_type": "code",
   "execution_count": 26,
   "metadata": {},
   "outputs": [
    {
     "data": {
      "text/plain": [
       "(100, 100)"
      ]
     },
     "execution_count": 26,
     "metadata": {},
     "output_type": "execute_result"
    }
   ],
   "source": [
    "C = A * B\n",
    "C.shape"
   ]
  },
  {
   "cell_type": "code",
   "execution_count": 27,
   "metadata": {},
   "outputs": [
    {
     "data": {
      "text/plain": [
       "(100, 100)"
      ]
     },
     "execution_count": 27,
     "metadata": {},
     "output_type": "execute_result"
    }
   ],
   "source": [
    "Gan = C - precios\n",
    "Gan.shape"
   ]
  },
  {
   "cell_type": "code",
   "execution_count": 28,
   "metadata": {},
   "outputs": [
    {
     "data": {
      "text/plain": [
       "52.009701175152784"
      ]
     },
     "execution_count": 28,
     "metadata": {},
     "output_type": "execute_result"
    }
   ],
   "source": [
    "Gan.max()"
   ]
  },
  {
   "cell_type": "code",
   "execution_count": 29,
   "metadata": {},
   "outputs": [
    {
     "name": "stdout",
     "output_type": "stream",
     "text": [
      "Ganancia Máxima: 52.009701175152784\n",
      "El tiempo de ejecución en segundos es de: 0.0\n"
     ]
    }
   ],
   "source": [
    "data = precios \n",
    "inicio = time()\n",
    "\n",
    "A = np.array(data).reshape(100,1)\n",
    "B = np.ones((1, 100))\n",
    "C = A * B\n",
    "Gan = C - precios\n",
    "Gan.max()\n",
    "\n",
    "print(\"Ganancia Máxima:\", Gan.max())    \n",
    "    \n",
    "fin = time()\n",
    "\n",
    "print(\"El tiempo de ejecución en segundos es de: {}\".format(fin-inicio))"
   ]
  },
  {
   "cell_type": "markdown",
   "metadata": {},
   "source": [
    "#### Comparacion"
   ]
  },
  {
   "cell_type": "code",
   "execution_count": 30,
   "metadata": {},
   "outputs": [],
   "source": [
    "comparacion = maxProfit(prices) == Gan.max()"
   ]
  },
  {
   "cell_type": "code",
   "execution_count": 31,
   "metadata": {},
   "outputs": [
    {
     "data": {
      "text/plain": [
       "False"
      ]
     },
     "execution_count": 31,
     "metadata": {},
     "output_type": "execute_result"
    }
   ],
   "source": [
    "comparacion.all()"
   ]
  },
  {
   "cell_type": "code",
   "execution_count": null,
   "metadata": {},
   "outputs": [],
   "source": []
  },
  {
   "cell_type": "code",
   "execution_count": null,
   "metadata": {},
   "outputs": [],
   "source": []
  },
  {
   "cell_type": "code",
   "execution_count": null,
   "metadata": {},
   "outputs": [],
   "source": []
  }
 ],
 "metadata": {
  "kernelspec": {
   "display_name": "Python 3",
   "language": "python",
   "name": "python3"
  },
  "language_info": {
   "codemirror_mode": {
    "name": "ipython",
    "version": 3
   },
   "file_extension": ".py",
   "mimetype": "text/x-python",
   "name": "python",
   "nbconvert_exporter": "python",
   "pygments_lexer": "ipython3",
   "version": "3.8.5"
  }
 },
 "nbformat": 4,
 "nbformat_minor": 4
}
